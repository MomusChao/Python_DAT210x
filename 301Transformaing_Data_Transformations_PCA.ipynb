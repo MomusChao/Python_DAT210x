{
 "cells": [
  {
   "cell_type": "markdown",
   "metadata": {},
   "source": [
    "The last step before you actually start modelling your data is to ensure that the rest of the features that you've kept are independent, are discriminating and are informative."
   ]
  },
  {
   "cell_type": "code",
   "execution_count": null,
   "metadata": {},
   "outputs": [],
   "source": [
    "import numpy as np"
   ]
  },
  {
   "cell_type": "code",
   "execution_count": null,
   "metadata": {},
   "outputs": [],
   "source": [
    "def computePCA(input_data):\n",
    "    \n",
    "    # Subtract the mean of each feature from itself\n",
    "    M = (input_data-input_data.T.mean(axis=1)).T\n",
    "    \n",
    "    # Compute covariance matrix\n",
    "    C = np.cov(M)\n",
    "    \n",
    "    # Compute eigen values+vectors of a matrix\n",
    "    latent, coeff = np.linalg.eig(C)\n",
    "    \n",
    "    # Sort e-values in order of greatest importance\n",
    "    index = np.argsort(latent)[::-1]\n",
    "    \n",
    "    # Sort e-vectors by their sorted e-values\n",
    "    coeff = coeff[;,index]\n",
    "    latent = latent[index]\n",
    "    \n",
    "    return latent"
   ]
  },
  {
   "cell_type": "markdown",
   "metadata": {},
   "source": [
    "# Resource"
   ]
  },
  {
   "cell_type": "markdown",
   "metadata": {},
   "source": [
    "http://scikit-learn.org/stable/modules/generated/sklearn.decomposition.PCA.html"
   ]
  }
 ],
 "metadata": {
  "kernelspec": {
   "display_name": "Python 3",
   "language": "python",
   "name": "python3"
  },
  "language_info": {
   "codemirror_mode": {
    "name": "ipython",
    "version": 3
   },
   "file_extension": ".py",
   "mimetype": "text/x-python",
   "name": "python",
   "nbconvert_exporter": "python",
   "pygments_lexer": "ipython3",
   "version": "3.5.5"
  }
 },
 "nbformat": 4,
 "nbformat_minor": 2
}
